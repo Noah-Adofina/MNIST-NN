{
  "nbformat": 4,
  "nbformat_minor": 0,
  "metadata": {
    "colab": {
      "provenance": []
    },
    "kernelspec": {
      "name": "python3",
      "display_name": "Python 3"
    },
    "language_info": {
      "name": "python"
    }
  },
  "cells": [
    {
      "cell_type": "code",
      "execution_count": 1,
      "metadata": {
        "id": "4F9tZWue3SpU"
      },
      "outputs": [],
      "source": [
        "import torch\n",
        "import torch.nn as nn\n",
        "import torch.nn.functional as F\n",
        "from torchvision import datasets, transforms\n",
        "from torch.utils.data import DataLoader\n",
        "import torch.optim as optim\n",
        "import matplotlib.pyplot as plt"
      ]
    },
    {
      "cell_type": "code",
      "source": [
        "# Declare transform\n",
        "transform = transforms.Compose([\n",
        "    transforms.ToTensor(),\n",
        "    transforms.Normalize((0.5,), (0.5,))\n",
        "])"
      ],
      "metadata": {
        "id": "B27cPOSc4GiF"
      },
      "execution_count": 2,
      "outputs": []
    },
    {
      "cell_type": "code",
      "source": [
        "# Load data and transform\n",
        "train_dataset = datasets.MNIST(root=\"./data\", train=True, transform=transform, download=True)\n",
        "test_dataset = datasets.MNIST(root=\"./data\", train=False, transform=transform, download=True)"
      ],
      "metadata": {
        "id": "7WnAvP978RNh"
      },
      "execution_count": 3,
      "outputs": []
    },
    {
      "cell_type": "code",
      "source": [
        "# Create dataloaders\n",
        "train_loader = DataLoader(dataset=train_dataset, batch_size=64, shuffle=True)\n",
        "test_loader = DataLoader(dataset=test_dataset, batch_size=64, shuffle=False)"
      ],
      "metadata": {
        "id": "qToEOtSm8-MB"
      },
      "execution_count": 4,
      "outputs": []
    },
    {
      "cell_type": "code",
      "source": [
        "# Build model\n",
        "\n",
        "class MNIST_NN(nn.Module):\n",
        "  def __init__(self):\n",
        "    super(MNIST_NN, self).__init__()\n",
        "    self.fc1 = nn.Linear(28*28, 128)\n",
        "    self.fc2 = nn.Linear(128, 64)\n",
        "    self.fc3 = nn.Linear(64, 10)\n",
        "\n",
        "  def forward(self, x):\n",
        "    x = x.view(-1, 28*28)\n",
        "    x = F.relu(self.fc1(x))\n",
        "    x = F.relu(self.fc2(x))\n",
        "    x = self.fc3(x)\n",
        "    return x"
      ],
      "metadata": {
        "id": "AxEouR-F9uvB"
      },
      "execution_count": 5,
      "outputs": []
    },
    {
      "cell_type": "code",
      "source": [
        "# Init model\n",
        "model = MNIST_NN()\n",
        "model.train()\n"
      ],
      "metadata": {
        "colab": {
          "base_uri": "https://localhost:8080/"
        },
        "id": "WTzPweA6DCOb",
        "outputId": "b41d3503-935f-4740-f25d-efdacf1dd216"
      },
      "execution_count": 6,
      "outputs": [
        {
          "output_type": "execute_result",
          "data": {
            "text/plain": [
              "MNIST_NN(\n",
              "  (fc1): Linear(in_features=784, out_features=128, bias=True)\n",
              "  (fc2): Linear(in_features=128, out_features=64, bias=True)\n",
              "  (fc3): Linear(in_features=64, out_features=10, bias=True)\n",
              ")"
            ]
          },
          "metadata": {},
          "execution_count": 6
        }
      ]
    },
    {
      "cell_type": "code",
      "source": [
        "# Loss function and optimizer\n",
        "\n",
        "ce_loss = nn.CrossEntropyLoss()\n",
        "optimizer = optim.SGD(model.parameters(), lr=0.001, momentum=0.85)"
      ],
      "metadata": {
        "id": "b679zy76CO_-"
      },
      "execution_count": 7,
      "outputs": []
    },
    {
      "cell_type": "code",
      "source": [
        "# Training loop\n",
        "device = torch.device(\"cuda\" if torch.cuda.is_available() else \"cpu\")\n",
        "model.to(device)\n",
        "num_epochs = 5\n",
        "train_losses = []\n",
        "\n",
        "def trainingloop(num_epochs):\n",
        "  for epoch in range(num_epochs):\n",
        "    running_loss = 0.0\n",
        "\n",
        "    for images, labels in train_loader:\n",
        "      images, labels = images.to(device), labels.to(device)\n",
        "      optimizer.zero_grad()\n",
        "      outputs = model(images)\n",
        "      loss = ce_loss(outputs, labels)\n",
        "      loss.backward()\n",
        "      optimizer.step()\n",
        "      running_loss += loss.item()\n",
        "\n",
        "    train_loss = running_loss / len(train_loader)\n",
        "    print(f\"Epoch {epoch+1}, Loss: {train_loss:.4f}\")\n",
        "    train_losses.append(train_loss)\n",
        "\n",
        "trainingloop(num_epochs)\n",
        "print(train_losses)"
      ],
      "metadata": {
        "colab": {
          "base_uri": "https://localhost:8080/"
        },
        "id": "aa73a0ukEUOy",
        "outputId": "a450c958-cb9a-4081-8db8-1b8a6a339466"
      },
      "execution_count": 23,
      "outputs": [
        {
          "output_type": "stream",
          "name": "stdout",
          "text": [
            "Epoch 1, Loss: 0.2729\n",
            "Epoch 2, Loss: 0.2583\n",
            "Epoch 3, Loss: 0.2449\n",
            "Epoch 4, Loss: 0.2320\n",
            "Epoch 5, Loss: 0.2194\n",
            "[0.2729485404929881, 0.2582840995430184, 0.24492102148118558, 0.23195786566050577, 0.21938188179437793]\n"
          ]
        }
      ]
    },
    {
      "cell_type": "code",
      "source": [
        "# Test runthrough\n",
        "\n",
        "test_loss = 0.0\n",
        "\n",
        "def nn_test():\n",
        "  model.eval()\n",
        "  correct = 0\n",
        "  total = 0\n",
        "  global test_loss\n",
        "\n",
        "  with torch.no_grad():\n",
        "    for images, labels in test_loader:\n",
        "      images, labels = images.to(device), labels.to(device)\n",
        "      outputs = model(images)\n",
        "      loss = ce_loss(outputs, labels)\n",
        "      test_loss += loss.item()\n",
        "\n",
        "\n",
        "      _, predicted = torch.max(outputs, 1)\n",
        "      total += labels.size(0)\n",
        "      correct += (predicted == labels).sum().item()\n",
        "\n",
        "  test_loss = test_loss / len(test_loader)\n",
        "  accuracy = correct / total * 100\n",
        "\n",
        "  print(f\"Test Loss: {test_loss:.4f}, Accuracy: {accuracy:.2f}%\")\n",
        "  model.train()\n",
        "\n",
        "nn_test()\n",
        "print(test_loss)"
      ],
      "metadata": {
        "colab": {
          "base_uri": "https://localhost:8080/"
        },
        "id": "iOrkKdw7JY1L",
        "outputId": "77cc1483-2841-4826-d0d2-d637fbad7588"
      },
      "execution_count": 27,
      "outputs": [
        {
          "output_type": "stream",
          "name": "stdout",
          "text": [
            "Test Loss: 0.2122, Accuracy: 93.86%\n",
            "0.21218829513023232\n"
          ]
        }
      ]
    },
    {
      "cell_type": "code",
      "source": [
        "# Visual Graph\n",
        "\n",
        "for i in range(len(train_losses)):\n",
        "  plt.scatter(i + 1, train_losses[i], label='Epoch ' + str(i + 1) + ' Loss')\n",
        "plt.scatter(num_epochs + 1, test_loss, label='Test Loss')\n",
        "plt.xlabel('Iteration')\n",
        "plt.ylabel('Loss')\n",
        "plt.legend()\n",
        "plt.show()"
      ],
      "metadata": {
        "colab": {
          "base_uri": "https://localhost:8080/",
          "height": 449
        },
        "id": "q1REcHDl2lJF",
        "outputId": "89d7ec2a-bcbb-4afb-d47e-abc44c44ace9"
      },
      "execution_count": 30,
      "outputs": [
        {
          "output_type": "display_data",
          "data": {
            "text/plain": [
              "<Figure size 640x480 with 1 Axes>"
            ],
            "image/png": "[encoded data removed]"
          },
          "metadata": {}
        }
      ]
    }
  ]
}